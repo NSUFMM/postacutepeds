{
 "cells": [
  {
   "cell_type": "markdown",
   "id": "0a0c1d93",
   "metadata": {
    "toc": true
   },
   "source": [
    "<h1>Table of Contents<span class=\"tocSkip\"></span></h1>\n",
    "<div class=\"toc\"><ul class=\"toc-item\"><li><span><a href=\"#Mapping-Rehabilitation-Centers---Pediatric\" data-toc-modified-id=\"Mapping-Rehabilitation-Centers---Pediatric-1\"><span class=\"toc-item-num\">1&nbsp;&nbsp;</span>Mapping Rehabilitation Centers - Pediatric</a></span><ul class=\"toc-item\"><li><span><a href=\"#Loading-population-of-states\" data-toc-modified-id=\"Loading-population-of-states-1.1\"><span class=\"toc-item-num\">1.1&nbsp;&nbsp;</span>Loading population of states</a></span></li><li><span><a href=\"#Loading-dataset-centers\" data-toc-modified-id=\"Loading-dataset-centers-1.2\"><span class=\"toc-item-num\">1.2&nbsp;&nbsp;</span>Loading dataset centers</a></span></li><li><span><a href=\"#Fixing-latitude-and-longitude\" data-toc-modified-id=\"Fixing-latitude-and-longitude-1.3\"><span class=\"toc-item-num\">1.3&nbsp;&nbsp;</span>Fixing latitude and longitude</a></span></li><li><span><a href=\"#Merge-to-create-number-of-beds-per-population\" data-toc-modified-id=\"Merge-to-create-number-of-beds-per-population-1.4\"><span class=\"toc-item-num\">1.4&nbsp;&nbsp;</span>Merge to create number of beds per population</a></span></li></ul></li><li><span><a href=\"#Map\" data-toc-modified-id=\"Map-2\"><span class=\"toc-item-num\">2&nbsp;&nbsp;</span>Map</a></span><ul class=\"toc-item\"><li><span><a href=\"#States\" data-toc-modified-id=\"States-2.1\"><span class=\"toc-item-num\">2.1&nbsp;&nbsp;</span>States</a></span></li><li><span><a href=\"#Census-Divisions\" data-toc-modified-id=\"Census-Divisions-2.2\"><span class=\"toc-item-num\">2.2&nbsp;&nbsp;</span>Census Divisions</a></span></li><li><span><a href=\"#Regions\" data-toc-modified-id=\"Regions-2.3\"><span class=\"toc-item-num\">2.3&nbsp;&nbsp;</span>Regions</a></span></li><li><span><a href=\"#Map-for-manuscript\" data-toc-modified-id=\"Map-for-manuscript-2.4\"><span class=\"toc-item-num\">2.4&nbsp;&nbsp;</span>Map for manuscript</a></span><ul class=\"toc-item\"><li><span><a href=\"#Converting-latitude-and-longitude-of-facilities-to-the-correct-projection\" data-toc-modified-id=\"Converting-latitude-and-longitude-of-facilities-to-the-correct-projection-2.4.1\"><span class=\"toc-item-num\">2.4.1&nbsp;&nbsp;</span>Converting latitude and longitude of facilities to the correct projection</a></span></li></ul></li><li><span><a href=\"#Test-manuscript-map\" data-toc-modified-id=\"Test-manuscript-map-2.5\"><span class=\"toc-item-num\">2.5&nbsp;&nbsp;</span>Test manuscript map</a></span></li><li><span><a href=\"#Manuscript-maps\" data-toc-modified-id=\"Manuscript-maps-2.6\"><span class=\"toc-item-num\">2.6&nbsp;&nbsp;</span>Manuscript maps</a></span><ul class=\"toc-item\"><li><span><a href=\"#State---to-be-included-in-the-manuscript\" data-toc-modified-id=\"State---to-be-included-in-the-manuscript-2.6.1\"><span class=\"toc-item-num\">2.6.1&nbsp;&nbsp;</span>State - <font color=\"red\">to be included in the manuscript</font></a></span><ul class=\"toc-item\"><li><span><a href=\"#Test:-beds/children\" data-toc-modified-id=\"Test:-beds/children-2.6.1.1\"><span class=\"toc-item-num\">2.6.1.1&nbsp;&nbsp;</span>Test: beds/children</a></span></li></ul></li><li><span><a href=\"#Division-with-beds/children\" data-toc-modified-id=\"Division-with-beds/children-2.6.2\"><span class=\"toc-item-num\">2.6.2&nbsp;&nbsp;</span>Division with beds/children</a></span></li></ul></li></ul></li></ul></div>"
   ]
  },
  {
   "cell_type": "code",
   "execution_count": null,
   "id": "28b3cfb0",
   "metadata": {
    "ExecuteTime": {
     "end_time": "2023-03-30T19:20:39.520062Z",
     "start_time": "2023-03-30T19:20:37.332374Z"
    }
   },
   "outputs": [],
   "source": [
    "%matplotlib inline\n",
    "user = 'UF'\n",
    "\n",
    "import datetime as dt\n",
    "import pandas as pd\n",
    "import sys\n",
    "import csv\n",
    "import glob\n",
    "import ipywidgets #as widgets\n",
    "import itertools\n",
    "import numpy as np\n",
    "import matplotlib.pyplot as plt\n",
    "import datetime\n",
    "import seaborn as sns\n",
    "import socket\n",
    "\n",
    "\n",
    "import requests\n",
    "import logging\n",
    "import time\n",
    "\n",
    "from matplotlib import *\n",
    "from matplotlib.dates import YearLocator, MonthLocator, DateFormatter\n",
    "from matplotlib.dates import *\n",
    "#style.use('ggplot')\n",
    "from numpy.random import randn\n",
    "#from scipy import statss\n",
    "from pandas import  DataFrame, Series\n",
    "import statsmodels.api as sm\n",
    "\n",
    "from ipywidgets import interact, interactive, fixed, interact_manual\n",
    "import ipywidgets as widgets\n",
    "\n",
    "import plotly.express as px\n",
    "import plotly.graph_objects as go\n",
    "from plotly.offline import download_plotlyjs, init_notebook_mode, plot, iplot\n",
    "from plotly.subplots import make_subplots\n",
    "\n",
    "sns.set()\n",
    "\n",
    "import warnings\n",
    "warnings.filterwarnings('ignore')\n",
    "\n",
    "## display entire text columns\n",
    "pd.set_option('display.max_colwidth', -1)\n",
    "pd.set_option(\"display.max_columns\", None)\n",
    "\n",
    "today = dt.datetime.today().strftime(\"%y%m%d\")\n",
    "print(today)\n",
    "\n",
    "\n",
    "if user == 'UF':\n",
    "\n",
    "    %run py_addresses.py\n",
    "\n",
    "elif user =='MM':\n",
    "    ## Here I define \n",
    "    #'addressdata', which is the folder where the data is located\n",
    "    # 'data_tools', which is where the data_tools are located\n",
    "    # 'address' is not used anywhere and mostly deprecated\n",
    "    print(user)\n",
    "    \n",
    "    \n",
    "else:\n",
    "    print(\"Define the paths for `address`, `addressdata`, and `data_tools`\")\n",
    "    \n",
    "    \n",
    "from IPython.core.display import HTML\n",
    "HTML(\"<style>.container { width:80% !important; }</style>\")\n"
   ]
  },
  {
   "cell_type": "markdown",
   "id": "5f92e62b",
   "metadata": {},
   "source": [
    "# Mapping Rehabilitation Centers - Pediatric"
   ]
  },
  {
   "cell_type": "markdown",
   "id": "a5bc505b",
   "metadata": {},
   "source": [
    "## Loading population of states"
   ]
  },
  {
   "cell_type": "code",
   "execution_count": null,
   "id": "c6cf0ec0",
   "metadata": {
    "ExecuteTime": {
     "end_time": "2023-03-30T19:20:39.561365Z",
     "start_time": "2023-03-30T19:20:39.521299Z"
    }
   },
   "outputs": [],
   "source": [
    "## https://www.census.gov/data/tables/time-series/demo/popest/2010s-state-detail.html\n",
    "df_pop = pd.read_csv('csv_data/sc-est2019-agesex-civ.csv', dtype=object)"
   ]
  },
  {
   "cell_type": "code",
   "execution_count": null,
   "id": "8217c438",
   "metadata": {
    "ExecuteTime": {
     "end_time": "2023-03-30T19:20:39.589789Z",
     "start_time": "2023-03-30T19:20:39.562828Z"
    }
   },
   "outputs": [],
   "source": [
    "df_pop.head()"
   ]
  },
  {
   "cell_type": "code",
   "execution_count": null,
   "id": "759b4eb5",
   "metadata": {
    "ExecuteTime": {
     "end_time": "2023-03-30T19:20:39.594845Z",
     "start_time": "2023-03-30T19:20:39.592420Z"
    }
   },
   "outputs": [],
   "source": [
    "list_ages = np.arange(0,15)\n",
    "list_ages = [str(x) for x in list_ages]\n",
    "print(list_ages)"
   ]
  },
  {
   "cell_type": "code",
   "execution_count": null,
   "id": "22f9b333",
   "metadata": {
    "ExecuteTime": {
     "end_time": "2023-03-30T19:20:39.627854Z",
     "start_time": "2023-03-30T19:20:39.596086Z"
    }
   },
   "outputs": [],
   "source": [
    "## Selecting only 0-14 year-olds\n",
    "df_pop = df_pop[df_pop['AGE'].astype(str).isin(list_ages)]\n",
    "\n",
    "## Selecting only states\n",
    "df_pop = df_pop[df_pop['NAME'] != 'United States']\n",
    "\n",
    "# groupby STATE and 2019\n",
    "df_pop['POPEST2019_CIV'] = df_pop['POPEST2019_CIV'].astype(int)\n",
    "df_pop_group = df_pop.groupby('NAME')['POPEST2019_CIV'].sum().reset_index(name='Children')\n",
    "df_pop_group"
   ]
  },
  {
   "cell_type": "code",
   "execution_count": null,
   "id": "0f963bac",
   "metadata": {
    "ExecuteTime": {
     "end_time": "2023-03-30T19:20:39.633831Z",
     "start_time": "2023-03-30T19:20:39.628947Z"
    }
   },
   "outputs": [],
   "source": [
    "dict_us_state_abbrev = {\n",
    "    'Alabama': 'AL',\n",
    "    'Alaska': 'AK',\n",
    "    'American Samoa': 'AS',\n",
    "    'Arizona': 'AZ',\n",
    "    'Arkansas': 'AR',\n",
    "    'California': 'CA',\n",
    "    'Colorado': 'CO',\n",
    "    'Connecticut': 'CT',\n",
    "    'Delaware': 'DE',\n",
    "    'District of Columbia': 'DC',\n",
    "    'Florida': 'FL',\n",
    "    'Georgia': 'GA',\n",
    "    'Guam': 'GU',\n",
    "    'Hawaii': 'HI',\n",
    "    'Idaho': 'ID',\n",
    "    'Illinois': 'IL',\n",
    "    'Indiana': 'IN',\n",
    "    'Iowa': 'IA',\n",
    "    'Kansas': 'KS',\n",
    "    'Kentucky': 'KY',\n",
    "    'Louisiana': 'LA',\n",
    "    'Maine': 'ME',\n",
    "    'Maryland': 'MD',\n",
    "    'Massachusetts': 'MA',\n",
    "    'Michigan': 'MI',\n",
    "    'Minnesota': 'MN',\n",
    "    'Mississippi': 'MS',\n",
    "    'Missouri': 'MO',\n",
    "    'Montana': 'MT',\n",
    "    'Nebraska': 'NE',\n",
    "    'Nevada': 'NV',\n",
    "    'New Hampshire': 'NH',\n",
    "    'New Jersey': 'NJ',\n",
    "    'New Mexico': 'NM',\n",
    "    'New York': 'NY',\n",
    "    'North Carolina': 'NC',\n",
    "    'North Dakota': 'ND',\n",
    "    'Northern Mariana Islands':'MP',\n",
    "    'Ohio': 'OH',\n",
    "    'Oklahoma': 'OK',\n",
    "    'Oregon': 'OR',\n",
    "    'Pennsylvania': 'PA',\n",
    "    'Puerto Rico': 'PR',\n",
    "    'Rhode Island': 'RI',\n",
    "    'South Carolina': 'SC',\n",
    "    'South Dakota': 'SD',\n",
    "    'Tennessee': 'TN',\n",
    "    'Texas': 'TX',\n",
    "    'Utah': 'UT',\n",
    "    'Vermont': 'VT',\n",
    "    'Virgin Islands': 'VI',\n",
    "    'Virginia': 'VA',\n",
    "    'Washington': 'WA',\n",
    "    'West Virginia': 'WV',\n",
    "    'Wisconsin': 'WI',\n",
    "    'Wyoming': 'WY'\n",
    "}"
   ]
  },
  {
   "cell_type": "code",
   "execution_count": null,
   "id": "ea429de2",
   "metadata": {
    "ExecuteTime": {
     "end_time": "2023-03-30T19:20:39.658730Z",
     "start_time": "2023-03-30T19:20:39.634961Z"
    }
   },
   "outputs": [],
   "source": [
    "df_pop_group['STATE'] = df_pop_group['NAME'].map(dict_us_state_abbrev)\n",
    "df_pop_group"
   ]
  },
  {
   "cell_type": "markdown",
   "id": "4ac716f1",
   "metadata": {},
   "source": [
    "## Loading dataset centers "
   ]
  },
  {
   "cell_type": "code",
   "execution_count": null,
   "id": "dd3dbf12",
   "metadata": {
    "ExecuteTime": {
     "end_time": "2023-03-30T19:20:39.687474Z",
     "start_time": "2023-03-30T19:20:39.660143Z"
    },
    "scrolled": false
   },
   "outputs": [],
   "source": [
    "df_rehab = pd.read_csv('csv_data/pac_facilities_dataset_230330.csv', dtype=object)\n",
    "df_rehab['STATE'] = df_rehab['STATE'].apply(lambda x: str(x).replace(\" \", \"\"))\n",
    "\n",
    "df_rehab['STATUS'] = df_rehab['STATUS'].astype(str)\n",
    "df_rehab['STATUS'].value_counts()\n",
    "\n",
    "\n",
    "##################################################################\n",
    "### REMOVING CENTERS WITHOUT LATITUDE/Longitude\n",
    "print(\"\\n\")\n",
    "print(\"=\"*120)\n",
    "print(\"Centers without location (latitude/longitude) ---> We'll keep only the ones with location to map\")\n",
    "\n",
    "df_rehab[['latitude', 'longitude']] = df_rehab[['latitude', 'longitude']].astype(float)\n",
    "df_without_location = df_rehab[df_rehab['latitude'].isna()]\n",
    "#display(df_without_location[['STATE','FAC_NAME_CMS','ST_ADR_NS','FullAddress','STATUS_desc','latitude', 'longitude']])\n",
    "display(df_without_location[['STATE','FAC_NAME','ST_ADR','STATUS','latitude', 'longitude']])\n",
    "\n",
    "## Keeping the ones with location\n",
    "df_rehab = df_rehab[~df_rehab['latitude'].isna()]\n",
    "\n",
    "print(\"=\"*120)\n",
    "print(\"\\n\")\n",
    "########################################################################################\n",
    "\n",
    "\n",
    "#df_rehab.head(2)"
   ]
  },
  {
   "cell_type": "code",
   "execution_count": null,
   "id": "57230149",
   "metadata": {
    "ExecuteTime": {
     "end_time": "2023-03-30T19:20:39.692368Z",
     "start_time": "2023-03-30T19:20:39.688531Z"
    }
   },
   "outputs": [],
   "source": [
    "df_rehab['STATUS'].value_counts()"
   ]
  },
  {
   "cell_type": "code",
   "execution_count": null,
   "id": "ca7e2074",
   "metadata": {
    "ExecuteTime": {
     "end_time": "2023-03-30T19:20:39.700054Z",
     "start_time": "2023-03-30T19:20:39.695028Z"
    }
   },
   "outputs": [],
   "source": [
    "# df_rehab['STATUS_DESC'] = 'POST-ACUTE CARE FACILITY THAT ACCEPTS ADOLESCENT PATIENTS'\n",
    "\n",
    "# df_rehab['STATUS_DESC'] = np.where(df_rehab['STATUS'] == '3.0', \n",
    "#                                    'POST-ACUTE CARE FACILITY THAT ACCEPTS PEDIATRIC PATIENTS ON A CASE-BY-CASE BASIS', \n",
    "#                                    df_rehab['STATUS_DESC'])\n",
    "                    \n",
    "# df_rehab['STATUS_DESC'] = np.where((df_rehab['STATUS'] == '1.0') & \n",
    "#                                     (df_rehab['FREE'] == '0'), \n",
    "#                                    'FACILITY WITH EMBEDDED PEDIATRIC POST-ACUTE CARE UNIT',\n",
    "#                                    df_rehab['STATUS_DESC'])\n",
    "\n",
    "# df_rehab['STATUS_DESC'] = np.where((df_rehab['STATUS'] == '1.0') & (df_rehab['FREE'] == '1'), \n",
    "#                                    'FREE-STANDING PEDIATRIC POST-ACUTE CARE FACILITY',\n",
    "#                                    df_rehab['STATUS_DESC'])  \n",
    "\n",
    "df_rehab['STATUS_desc'] = 'Post-acute care facility accepting adolescent patients'\n",
    "\n",
    "df_rehab['STATUS_desc'] = np.where(df_rehab['STATUS'] == '3.0', \n",
    "                                   'Post-acute care facility accepting pediatric patients on a case-by-case basis', \n",
    "                                   df_rehab['STATUS_desc'])\n",
    "                    \n",
    "df_rehab['STATUS_desc'] = np.where((df_rehab['STATUS'] == '1.0') & \n",
    "                                    (df_rehab['FREE'] == '0'), \n",
    "                                   'Facility with embedded pediatric post-acute care unit',\n",
    "                                   df_rehab['STATUS_desc'])\n",
    "\n",
    "df_rehab['STATUS_desc'] = np.where((df_rehab['STATUS'] == '1.0') & \n",
    "                                   (df_rehab['FREE'] == '1'), \n",
    "                                   'Free-standing pediatric post-acute care facility',\n",
    "                                   df_rehab['STATUS_desc'])  "
   ]
  },
  {
   "cell_type": "code",
   "execution_count": null,
   "id": "e15483ba",
   "metadata": {
    "ExecuteTime": {
     "end_time": "2023-03-30T19:20:39.705240Z",
     "start_time": "2023-03-30T19:20:39.701342Z"
    }
   },
   "outputs": [],
   "source": [
    "df_rehab['STATUS_desc'].value_counts()"
   ]
  },
  {
   "cell_type": "code",
   "execution_count": null,
   "id": "a6777112",
   "metadata": {
    "ExecuteTime": {
     "end_time": "2023-03-30T19:20:39.709560Z",
     "start_time": "2023-03-30T19:20:39.706424Z"
    }
   },
   "outputs": [],
   "source": [
    "# ## Rank to sort labels in the map\n",
    "# dict_rank_pac = {'Free-standing pediatric PAC facility':1,\n",
    "#                  'PAC facility with embedded pediatric unit':2,\n",
    "#                  'PAC facility accepting pediatric patients':3,\n",
    "#                  'PAC facility accepting adolescent patients':4}\n",
    "# df_rehab['STATUS_rank'] = df_rehab['STATUS_desc'].map(dict_rank_pac)\n",
    "\n",
    "## Rank to sort labels in the map\n",
    "dict_rank_pac = {'Free-standing pediatric post-acute care facility':1,\n",
    "                 'Facility with embedded pediatric post-acute care unit':2,\n",
    "                 'Post-acute care facility accepting pediatric patients on a case-by-case basis':3,\n",
    "                 'Post-acute care facility accepting adolescent patients':4}\n",
    "df_rehab['STATUS_rank'] = df_rehab['STATUS_desc'].map(dict_rank_pac)"
   ]
  },
  {
   "cell_type": "code",
   "execution_count": null,
   "id": "30cef684",
   "metadata": {
    "ExecuteTime": {
     "end_time": "2023-03-30T19:20:39.715019Z",
     "start_time": "2023-03-30T19:20:39.710616Z"
    }
   },
   "outputs": [],
   "source": [
    "df_rehab['INPT_BEDS_map'] = df_rehab['INPT_BEDS']\n",
    "df_rehab['INPT_BEDS_map'] = np.where(df_rehab['INPT_BEDS_map']=='60/66', 60, df_rehab['INPT_BEDS_map'])\n",
    "df_rehab['INPT_BEDS_map'] = df_rehab['INPT_BEDS_map'].astype(float)\n",
    "#df_rehab['INPT_BEDS_map'].astype(float).describe()\n",
    "\n",
    "## Annotation on circle for number of beds\n",
    "df_rehab['INPT_BEDS_map_comment'] = np.where(df_rehab['INPT_BEDS_map'].isna(),\n",
    "                                            'No information', \n",
    "                                             df_rehab['INPT_BEDS_map'])\n",
    "\n",
    "## size of circle on map\n",
    "df_rehab['INPT_BEDS_map_circle'] = np.where(df_rehab['INPT_BEDS_map'].isna(),\n",
    "                                            10, \n",
    "                                             df_rehab['INPT_BEDS_map'])"
   ]
  },
  {
   "cell_type": "code",
   "execution_count": null,
   "id": "51309bda",
   "metadata": {
    "ExecuteTime": {
     "end_time": "2023-03-30T19:20:39.723354Z",
     "start_time": "2023-03-30T19:20:39.716172Z"
    }
   },
   "outputs": [],
   "source": [
    "dict_trach = {'0': 'No',\n",
    "              '1': 'Yes',\n",
    "              '2':'Case-by-case',\n",
    "              '3': 'Unknown'\n",
    "             }\n",
    "df_rehab['TRACH_desc'] = df_rehab['TRACH'].map(dict_trach).replace(np.nan, 'Unknown')\n",
    "print(df_rehab['TRACH_desc'].value_counts(), '\\n')\n",
    "\n",
    "\n",
    "\n",
    "dict_vent = {'0': 'No',\n",
    "             '1': 'Yes',\n",
    "             '2':'Case-by-case',\n",
    "            '3': 'Unknown'\n",
    "            }\n",
    "df_rehab['VENT_desc'] = df_rehab['VENT'].map(dict_vent).replace(np.nan, 'Unknown')\n",
    "print(df_rehab['VENT_desc'].value_counts(), '\\n')\n",
    "\n",
    "\n",
    "dict_pn = {'0': 'No',\n",
    "             '1': 'Yes',\n",
    "             '2':'Case-by-case',\n",
    "            '3': 'Unknown'\n",
    "            }\n",
    "df_rehab['PN_desc'] = df_rehab['PN'].map(dict_vent).replace(np.nan, 'Unknown')\n",
    "print(df_rehab['PN_desc'].value_counts(), '\\n')"
   ]
  },
  {
   "cell_type": "markdown",
   "id": "004a8175",
   "metadata": {},
   "source": [
    "## Fixing latitude and longitude"
   ]
  },
  {
   "cell_type": "code",
   "execution_count": null,
   "id": "8a79d74c",
   "metadata": {
    "ExecuteTime": {
     "end_time": "2023-03-30T19:20:39.726236Z",
     "start_time": "2023-03-30T19:20:39.724611Z"
    }
   },
   "outputs": [],
   "source": [
    "# df_rehab['latitude'] = np.where(df_rehab['FAC_NAME_NS']=='TAR RIVER',\n",
    "#                                35.62954122471422,\n",
    "#                                df_rehab['latitude'])\n",
    "\n",
    "# df_rehab['longitude'] = np.where(df_rehab['FAC_NAME_NS']=='TAR RIVER',\n",
    "#                                -77.4241428079374,\n",
    "#                                df_rehab['longitude'])\n",
    "\n",
    "# df_rehab[df_rehab['FAC_NAME_NS']=='TAR RIVER'][['FullAddress', 'latitude', 'longitude']]"
   ]
  },
  {
   "cell_type": "markdown",
   "id": "2dcf1af1",
   "metadata": {},
   "source": [
    "## Merge to create number of beds per population"
   ]
  },
  {
   "cell_type": "code",
   "execution_count": null,
   "id": "e79e687f",
   "metadata": {
    "ExecuteTime": {
     "end_time": "2023-03-30T19:20:39.731082Z",
     "start_time": "2023-03-30T19:20:39.727275Z"
    }
   },
   "outputs": [],
   "source": [
    "list_status = ['Facility with embedded pediatric post-acute care unit','Free-standing pediatric post-acute care facility']\n",
    "                \n",
    "df_rehab_group = df_rehab[df_rehab['STATUS_desc'].isin(list_status)].groupby('STATE')['INPT_BEDS_map'].sum().reset_index(name='State_beds')"
   ]
  },
  {
   "cell_type": "code",
   "execution_count": null,
   "id": "0396a29b",
   "metadata": {
    "ExecuteTime": {
     "end_time": "2023-03-30T19:20:39.737339Z",
     "start_time": "2023-03-30T19:20:39.732280Z"
    }
   },
   "outputs": [],
   "source": [
    "### Number accepting pediatric\n",
    "display(df_rehab['STATUS'].value_counts())\n",
    "\n",
    "df_rehab_ped_centers = df_rehab[df_rehab['STATUS']=='1.0']\n",
    "print(len(df_rehab_ped_centers))\n",
    "\n",
    "## Number per State\n",
    "df_rehab_ped_centers_group = df_rehab_ped_centers.groupby('STATE').size().reset_index(name='Pediatric_centers')"
   ]
  },
  {
   "cell_type": "code",
   "execution_count": null,
   "id": "53530a4a",
   "metadata": {
    "ExecuteTime": {
     "end_time": "2023-03-30T19:20:39.745740Z",
     "start_time": "2023-03-30T19:20:39.738433Z"
    }
   },
   "outputs": [],
   "source": [
    "## Fixing white spaces on the name of states\n",
    "df_rehab_group['STATE'] = df_rehab_group['STATE'].apply(lambda x: str(x).replace(\" \", \"\"))\n",
    "\n",
    "df_merged = df_rehab_group.merge(df_pop_group, on='STATE', how='outer').replace(np.nan, 0)\n",
    "df_merged = df_merged.merge(df_rehab_ped_centers_group, on='STATE', how='outer').replace(np.nan, 0)\n",
    "df_merged['beds_per_100k'] = round(1e5*df_merged['State_beds']/df_merged['Children'],2)\n",
    "df_merged['Children_M'] = round(df_merged['Children']/1e6,3)\n",
    "#df_merged.sorted()"
   ]
  },
  {
   "cell_type": "markdown",
   "id": "ebe780ba",
   "metadata": {
    "ExecuteTime": {
     "end_time": "2022-06-06T17:43:24.721659Z",
     "start_time": "2022-06-06T17:43:24.719312Z"
    }
   },
   "source": [
    "# Map"
   ]
  },
  {
   "cell_type": "markdown",
   "id": "a77af27a",
   "metadata": {
    "ExecuteTime": {
     "end_time": "2023-01-12T03:11:14.646334Z",
     "start_time": "2023-01-12T03:11:14.631636Z"
    }
   },
   "source": [
    "## States"
   ]
  },
  {
   "cell_type": "code",
   "execution_count": null,
   "id": "0a341aae",
   "metadata": {
    "ExecuteTime": {
     "end_time": "2023-03-30T19:20:39.940785Z",
     "start_time": "2023-03-30T19:20:39.746770Z"
    }
   },
   "outputs": [],
   "source": [
    "### Loading geojson file for states\n",
    "import json\n",
    "with open(data_tools+\"geojson/geojson_states\") as geofile:\n",
    "    geojson_layer_state = json.load(geofile)\n",
    "    \n",
    "geojson_layer_state[\"features\"][0][\"properties\"]"
   ]
  },
  {
   "cell_type": "code",
   "execution_count": null,
   "id": "698d24d2",
   "metadata": {
    "ExecuteTime": {
     "end_time": "2023-03-30T19:20:39.944710Z",
     "start_time": "2023-03-30T19:20:39.941836Z"
    }
   },
   "outputs": [],
   "source": [
    "df_rehab['STATUS_rank'] = df_rehab['STATUS_desc'].map(dict_rank_pac)\n",
    "\n",
    "df_rehab = df_rehab.sort_values('STATUS_rank')"
   ]
  },
  {
   "cell_type": "code",
   "execution_count": null,
   "id": "0988b851",
   "metadata": {
    "ExecuteTime": {
     "end_time": "2023-03-30T19:20:43.240174Z",
     "start_time": "2023-03-30T19:20:39.945930Z"
    }
   },
   "outputs": [],
   "source": [
    "plot_map = 'Y'\n",
    "\n",
    "if plot_map == 'Y':\n",
    "    ######## Plotting choropleth\n",
    " \n",
    "    fig = px.choropleth_mapbox(df_merged, #dataframe with numbers and zip code\n",
    "                               geojson=geojson_layer_state, # the geojson file we created with zip codes\n",
    "                               locations='STATE', #the column of df with locations\n",
    "                               color='Children_M',#'beds_per_100k',#'Children',  #the column of df with numbers\n",
    "                               color_continuous_scale='Greys',#\"OrRd\", #color scale\n",
    "                               featureidkey=\"properties.STUSPS\",#\"properties.POSTCODE\", #the key in the geojson file with zipcode. See sect 1.4\n",
    "                               mapbox_style=\"carto-positron\",# \"white-bg\",#\"carto-positron\", # style of background map\n",
    "                               zoom=3, #initial zoom, only if we want\n",
    "                               center = {\"lat\": 37.09, \"lon\": -95.71}, #center of the map, only if we want\n",
    "                               opacity=0.6, #opacity of the choropleth\n",
    "#                                hover_data={'STATE','Pediatric_centers','beds_per_100k', 'Children_M'}, #What will be shown in the hover box (besides location) \n",
    "                                hover_data={'STATE','Pediatric_centers','Children_M'}, #What will be shown in the hover box (besides location) \n",
    "                               labels={'Pediatric_centers':'Centers accepting pediatric patients', \n",
    "#                                        'beds_per_100k':'Beds per 100k children in State',\n",
    "                                       'Children_M': 'Population under 18 years (millions)',\n",
    "                                       'STATE': 'State',#labels in the hover box\n",
    "                                       })\n",
    "\n",
    "    \n",
    "    \n",
    "    color_options = ['Blue', 'DarkOrange', 'DarkRed', 'Black']\n",
    " \n",
    "    i=0\n",
    "    list_status_full = ['Free-standing pediatric post-acute care facility',\n",
    "                 'Facility with embedded pediatric post-acute care unit',\n",
    "                 'Post-acute care facility accepting pediatric patients on a case-by-case basis',\n",
    "                 'Post-acute care facility accepting adolescent patients']\n",
    "    for status in list_status_full:\n",
    "        print(i+1, status)\n",
    "        sizepoint=4\n",
    "                    \n",
    "\n",
    "        df_centers = df_rehab[df_rehab['STATUS_desc'] == status]\n",
    "        \n",
    "        if status in ['Post-acute care facility accepting pediatric patients on a case-by-case basis',\n",
    "                 'Post-acute care facility accepting adolescent patients']:\n",
    "            df_centers['INPT_BEDS_map_circle'] = 8\n",
    "            df_centers['INPT_BEDS_map_comment'] = '-'\n",
    "            \n",
    "        df_centers['INPT_BEDS_map_comment'] = df_centers['INPT_BEDS_map_comment'].astype(str)\n",
    "\n",
    "        site_lat = df_centers['latitude']\n",
    "        site_lon = df_centers['longitude']\n",
    "        site_name = ('<b>'+df_centers['FAC_NAME']+\" (\"+df_centers['STATE']+')</b><br>'+str('Beds: ')+df_centers['INPT_BEDS_map_comment'].astype(str)+'<br>'+str('Status: ')+df_centers['STATUS_desc'].astype(str)+\n",
    "                    '<br>'+str('Tracheostomy: ')++df_centers['TRACH_desc'] +\n",
    "                    '<br>'+str('Mechanical Ventilation: ')++df_centers['VENT_desc'] +\n",
    "                    '<br>'+str('Parenteral Nutrition: ')++df_centers['PN_desc'])\n",
    "        site_number = df_centers['INPT_BEDS_map_circle'].apply(lambda x: np.sqrt(x))\n",
    "\n",
    "        fig.add_trace(go.Scattermapbox(\n",
    "                lat=site_lat,\n",
    "                lon=site_lon,\n",
    "                mode='markers',\n",
    "                marker=go.scattermapbox.Marker(\n",
    "                    size=site_number*sizepoint,\n",
    "                    color=color_options[i],#site_icu,\n",
    "                    #colorscale='Black',\n",
    "                    opacity=0.65,\n",
    "                    #showscale=True,\n",
    "                    #colorscale=[(0, \"DimGrey\"), (0.15, \"slategrey\"), (0.5, \"darkslategrey\"), (1, \"black\")]\n",
    "                ),\n",
    "                 text=site_name,\n",
    "                 hoverinfo='text',\n",
    "                 name=status,\n",
    "            ))\n",
    "\n",
    "        fig.update_traces(showlegend=True)\n",
    "        i+=1\n",
    "\n",
    "    fig.update_layout(title={\n",
    "                    'text': \"Post-Acute Care Centers\",\n",
    "                    'y':0.95,\n",
    "                    'x':0.5,\n",
    "                    'xanchor': 'center',\n",
    "                    'yanchor': 'top'},\n",
    "                      legend=dict(x=-.1, y=0.8), \n",
    "                      coloraxis_colorbar=dict(title=\"Population under 18 years (millions)\"),\n",
    "                      coloraxis=dict(cmax=11, cmin=0),\n",
    "                      margin={\"r\":0,\"t\":0,\"l\":0,\"b\":0})\n",
    "\n",
    "    \n",
    "    \n",
    "#    fig.show()\n",
    "    plot(fig, filename=\"webpage_maps/rehab_centers_states.html\")\n",
    "#    plot(fig, filename=\"webpage_maps/rehab_centers_beds_10k.html\")\n",
    "    \n",
    "# #     plotly.io.write_image(fig, \"figures/fig1a_hosps_peds_BW.pdf\", #format=pdf,\n",
    "# #                    width=1000, height=600, validate=True)\n",
    "    \n",
    "else:\n",
    "    print(\"To show the map, change variable to 'Y' \")"
   ]
  },
  {
   "cell_type": "markdown",
   "id": "7e0cd1e7",
   "metadata": {},
   "source": [
    "## Census Divisions"
   ]
  },
  {
   "cell_type": "code",
   "execution_count": null,
   "id": "033abd42",
   "metadata": {
    "ExecuteTime": {
     "end_time": "2023-03-30T19:20:44.553068Z",
     "start_time": "2023-03-30T19:20:43.243848Z"
    }
   },
   "outputs": [],
   "source": [
    "import geopandas\n",
    "\n",
    "shp_file = geopandas.read_file(data_tools+'geojson/cb_2018_us_division_500k/cb_2018_us_division_500k.shp')\n",
    "shp_file.to_file(data_tools+'geojson/geojson_divisions', driver='GeoJSON')"
   ]
  },
  {
   "cell_type": "code",
   "execution_count": null,
   "id": "9c217975",
   "metadata": {
    "ExecuteTime": {
     "end_time": "2023-03-30T19:20:44.850657Z",
     "start_time": "2023-03-30T19:20:44.554607Z"
    }
   },
   "outputs": [],
   "source": [
    "### Loading geojson file for states\n",
    "import json\n",
    "with open(data_tools+\"geojson/geojson_divisions\") as geofile:\n",
    "    geojson_layer_division = json.load(geofile)\n",
    "    \n",
    "geojson_layer_division[\"features\"][0][\"properties\"]\n"
   ]
  },
  {
   "cell_type": "code",
   "execution_count": null,
   "id": "2ef03091",
   "metadata": {
    "ExecuteTime": {
     "end_time": "2023-03-30T19:20:44.960784Z",
     "start_time": "2023-03-30T19:20:44.851592Z"
    }
   },
   "outputs": [],
   "source": [
    "df_state_to_regions = pd.read_excel(data_tools+\"geojson/state_FIPS_codes.xlsx\", dtype=object)\n",
    "dict_state_to_divisions = df_state_to_regions.set_index(\"state_cd\")['div_name'].to_dict()\n",
    "#dict_state_to_divisions "
   ]
  },
  {
   "cell_type": "code",
   "execution_count": null,
   "id": "816be163",
   "metadata": {
    "ExecuteTime": {
     "end_time": "2023-03-30T19:20:45.026675Z",
     "start_time": "2023-03-30T19:20:44.962001Z"
    }
   },
   "outputs": [],
   "source": [
    "df_merged['Division'] = df_merged['STATE'].map(dict_state_to_divisions)\n",
    "df_merged_divisions = df_merged.groupby('Division')[['State_beds', 'Children', 'Pediatric_centers']].sum().reset_index()\n",
    "df_merged_divisions = df_merged_divisions.rename(columns={'State_beds':'Division_beds'})\n",
    "df_merged_divisions['Beds_per_100k'] = round(1e5*df_merged_divisions['Division_beds']/df_merged_divisions['Children'],2)\n",
    "df_merged_divisions\n",
    "\n",
    "df_merged_divisions['Children_M'] = round(df_merged_divisions['Children']/1e6,3)\n",
    "df_merged_divisions\n"
   ]
  },
  {
   "cell_type": "code",
   "execution_count": null,
   "id": "9c744175",
   "metadata": {
    "ExecuteTime": {
     "end_time": "2023-03-30T19:20:45.040979Z",
     "start_time": "2023-03-30T19:20:45.027888Z"
    }
   },
   "outputs": [],
   "source": [
    "plot_map = 'N'\n",
    "\n",
    "if plot_map == 'Y':\n",
    "    ######## Plotting choropleth\n",
    " \n",
    "    fig = px.choropleth_mapbox(df_merged_divisions, #dataframe with numbers and zip code\n",
    "                               geojson=geojson_layer_division, # the geojson file we created with zip codes\n",
    "                               locations='Division', #the column of df with locations\n",
    "                               color='Children_M',#'Children',  #the column of df with numbers\n",
    "                               color_continuous_scale='Greys',#\"OrRd\", #color scale\n",
    "                               featureidkey=\"properties.NAME\",#\"properties.POSTCODE\", #the key in the geojson file with zipcode. See sect 1.4\n",
    "                               mapbox_style=\"carto-positron\",# \"white-bg\",#\"carto-positron\", # style of background map\n",
    "                               zoom=3, #initial zoom, only if we want\n",
    "                               center = {\"lat\": 37.09, \"lon\": -95.71}, #center of the map, only if we want\n",
    "                               opacity=0.6, #opacity of the choropleth\n",
    "                               #hover_data={'Children_M','Division','Pediatric_centers','Beds_per_100k'}, #What will be shown in the hover box (besides location) \n",
    "                               hover_data={'Children_M','Division','Pediatric_centers'},\n",
    "                               labels={'Pediatric_centers':'Centers accepting pediatric pts', \n",
    "                                       #'Beds_per_100k':'Beds per 100k children in Division',\n",
    "                                       'Children_M':'Population under 18 years (millions)',\n",
    "                                       'Division': 'Division',#labels in the hover box\n",
    "                                       })\n",
    "\n",
    "    \n",
    "    \n",
    "    color_options = ['Blue', 'DarkOrange', 'DarkRed', 'Black']\n",
    " \n",
    "    i=0\n",
    "    list_status_full = ['Free-standing pediatric post-acute care facility',\n",
    "                 'Facility with embedded pediatric post-acute care unit',\n",
    "                 'Post-acute care facility accepting pediatric patients on a case-by-case basis',\n",
    "                 'Post-acute care facility accepting adolescent patients']\n",
    "    for status in list_status_full:\n",
    "        print(i+1, status)\n",
    "        sizepoint=4\n",
    "                    \n",
    "\n",
    "        df_centers = df_rehab[df_rehab['STATUS_desc'] == status]\n",
    "        \n",
    "        if status in ['Post-acute care facility accepting pediatric patients on a case-by-case basis',\n",
    "                 'Post-acute care facility accepting adolescent patients']:\n",
    "            df_centers['INPT_BEDS_map_circle'] = 8\n",
    "            df_centers['INPT_BEDS_map_comment'] = '-'\n",
    "            \n",
    "        df_centers['INPT_BEDS_map_comment'] = df_centers['INPT_BEDS_map_comment'].astype(str)\n",
    "\n",
    "        site_lat = df_centers['latitude']\n",
    "        site_lon = df_centers['longitude']\n",
    "        site_name = ('<b>'+df_centers['FAC_NAME']+\" (\"+df_centers['STATE']+')</b><br>'+str('Beds: ')+df_centers['INPT_BEDS_map_comment'].astype(str)+'<br>'+str('Status: ')+df_centers['STATUS_desc'].astype(str)+\n",
    "                    '<br>'+str('Tracheostomy: ')++df_centers['TRACH_desc'] +\n",
    "                    '<br>'+str('Mechanical Ventilation: ')++df_centers['VENT_desc'] +\n",
    "                    '<br>'+str('Parenteral Nutrition: ')++df_centers['PN_desc'])\n",
    "        site_number = df_centers['INPT_BEDS_map_circle'].apply(lambda x: np.sqrt(x))\n",
    "\n",
    "        fig.add_trace(go.Scattermapbox(\n",
    "                lat=site_lat,\n",
    "                lon=site_lon,\n",
    "                mode='markers',\n",
    "                marker=go.scattermapbox.Marker(\n",
    "                    size=site_number*sizepoint,\n",
    "                    color=color_options[i],#site_icu,\n",
    "                    #colorscale='Black',\n",
    "                    opacity=0.65,\n",
    "                    #showscale=True,\n",
    "                    #colorscale=[(0, \"DimGrey\"), (0.15, \"slategrey\"), (0.5, \"darkslategrey\"), (1, \"black\")]\n",
    "                ),\n",
    "                 text=site_name,\n",
    "                 hoverinfo='text',\n",
    "                 name=status,\n",
    "            ))\n",
    "\n",
    "        fig.update_traces(showlegend=True)\n",
    "        i+=1\n",
    "\n",
    "    fig.update_layout(title={\n",
    "                    'text': \"Post-Acute Care Centers\",\n",
    "                    'y':0.95,\n",
    "                    'x':0.5,\n",
    "                    'xanchor': 'center',\n",
    "                    'yanchor': 'top'},\n",
    "                      legend=dict(x=-.1, y=0.8), \n",
    "                      coloraxis_colorbar=dict(title=\"Population under 18 years (millions)\"),\n",
    "                      margin={\"r\":0,\"t\":0,\"l\":0,\"b\":0})\n",
    "\n",
    "    \n",
    "    \n",
    "#    fig.show()\n",
    "    plot(fig, filename=\"webpage_maps/rehab_centers_divisions.html\")\n",
    "#    plot(fig, filename=\"webpage_maps/rehab_centers_beds_10k.html\")\n",
    "    \n",
    "# #     plotly.io.write_image(fig, \"figures/fig1a_hosps_peds_BW.pdf\", #format=pdf,\n",
    "# #                    width=1000, height=600, validate=True)\n",
    "    \n",
    "else:\n",
    "    print(\"To show the map, change variable to 'Y' \")"
   ]
  },
  {
   "cell_type": "markdown",
   "id": "54a2895b",
   "metadata": {},
   "source": [
    "## Regions"
   ]
  },
  {
   "cell_type": "code",
   "execution_count": null,
   "id": "ed2407a6",
   "metadata": {
    "ExecuteTime": {
     "end_time": "2023-03-30T19:20:45.056753Z",
     "start_time": "2023-03-30T19:20:45.041973Z"
    }
   },
   "outputs": [],
   "source": [
    "### Loading geojson file for states\n",
    "import json\n",
    "with open(data_tools+\"geojson/geojson_regions\") as geofile:\n",
    "    geojson_layer_region = json.load(geofile)\n",
    "    \n",
    "geojson_layer_region[\"features\"][0][\"properties\"]\n"
   ]
  },
  {
   "cell_type": "code",
   "execution_count": null,
   "id": "f4a0e185",
   "metadata": {
    "ExecuteTime": {
     "end_time": "2023-03-30T19:20:45.076128Z",
     "start_time": "2023-03-30T19:20:45.061362Z"
    }
   },
   "outputs": [],
   "source": [
    "df_state_to_regions = pd.read_excel(data_tools+\"geojson/state_FIPS_codes.xlsx\", dtype=object)\n",
    "dict_state_to_regions = df_state_to_regions.set_index(\"state_cd\")['reg_name'].to_dict()\n",
    "#dict_state_to_regions "
   ]
  },
  {
   "cell_type": "code",
   "execution_count": null,
   "id": "8761cb74",
   "metadata": {
    "ExecuteTime": {
     "end_time": "2023-03-30T19:20:45.108480Z",
     "start_time": "2023-03-30T19:20:45.077241Z"
    }
   },
   "outputs": [],
   "source": [
    "df_merged['Region'] = df_merged['STATE'].map(dict_state_to_regions)\n",
    "df_merged_regions = df_merged.groupby('Region')[['State_beds', 'Children', 'Pediatric_centers']].sum().reset_index()\n",
    "df_merged_regions = df_merged_regions.rename(columns={'State_beds':'Region_beds'})\n",
    "df_merged_regions['Beds_per_100k'] = round(1e5*df_merged_regions['Region_beds']/df_merged_regions['Children'],2)\n",
    "df_merged_regions\n",
    "\n",
    "df_merged_regions['Children_M'] = round(df_merged_regions['Children']/1e6,3)\n",
    "df_merged_regions"
   ]
  },
  {
   "cell_type": "code",
   "execution_count": null,
   "id": "60ed886f",
   "metadata": {
    "ExecuteTime": {
     "end_time": "2023-03-30T19:20:45.118425Z",
     "start_time": "2023-03-30T19:20:45.109763Z"
    }
   },
   "outputs": [],
   "source": [
    "plot_map = 'N'\n",
    "\n",
    "if plot_map == 'Y':\n",
    "    ######## Plotting choropleth\n",
    " \n",
    "    fig = px.choropleth_mapbox(df_merged_regions, #dataframe with numbers and zip code\n",
    "                               geojson=geojson_layer_region, # the geojson file we created with zip codes\n",
    "                               locations='Region', #the column of df with locations\n",
    "                               color='Children_M',#'Children',  #the column of df with numbers\n",
    "                               color_continuous_scale='Greys',#\"OrRd\", #color scale\n",
    "                               featureidkey=\"properties.NAME\",#\"properties.POSTCODE\", #the key in the geojson file with zipcode. See sect 1.4\n",
    "                               mapbox_style=\"carto-positron\",# \"white-bg\",#\"carto-positron\", # style of background map\n",
    "                               zoom=3, #initial zoom, only if we want\n",
    "                               center = {\"lat\": 37.09, \"lon\": -95.71}, #center of the map, only if we want\n",
    "                               opacity=0.6, #opacity of the choropleth\n",
    "                               hover_data={'Region','Pediatric_centers','Children_M'}, #What will be shown in the hover box (besides location) \n",
    "                               labels={'Pediatric_centers':'Centers accepting pediatric pts', \n",
    "                                       #'Beds_per_100k':'Beds per 100k children in State',\n",
    "                                       'Children_M':'Population under 18 years (millions)',\n",
    "                                       'Region': 'Region',#labels in the hover box\n",
    "                                       })\n",
    "\n",
    "    \n",
    "    \n",
    "    color_options = ['Blue', 'DarkOrange', 'DarkRed', 'Black']\n",
    " \n",
    "    i=0\n",
    "    list_status_full = ['Free-standing pediatric post-acute care facility',\n",
    "                 'Facility with embedded pediatric post-acute care unit',\n",
    "                 'Post-acute care facility accepting pediatric patients on a case-by-case basis',\n",
    "                 'Post-acute care facility accepting adolescent patients']\n",
    "    for status in list_status_full:\n",
    "        print(i+1, status)\n",
    "        sizepoint=4\n",
    "                    \n",
    "\n",
    "        df_centers = df_rehab[df_rehab['STATUS_desc'] == status]\n",
    "        \n",
    "        if status in ['Post-acute care facility accepting pediatric patients on a case-by-case basis',\n",
    "                 'Post-acute care facility accepting adolescent patients']:\n",
    "            df_centers['INPT_BEDS_map_circle'] = 8\n",
    "            df_centers['INPT_BEDS_map_comment'] = '-'\n",
    "            \n",
    "        df_centers['INPT_BEDS_map_comment'] = df_centers['INPT_BEDS_map_comment'].astype(str)\n",
    "\n",
    "        site_lat = df_centers['latitude']\n",
    "        site_lon = df_centers['longitude']\n",
    "        site_name = ('<b>'+df_centers['FAC_NAME']+\" (\"+df_centers['STATE']+')</b><br>'+str('Beds: ')+df_centers['INPT_BEDS_map_comment'].astype(str)+'<br>'+str('Status: ')+df_centers['STATUS_desc'].astype(str)+\n",
    "                    '<br>'+str('Tracheostomy: ')++df_centers['TRACH_desc'] +\n",
    "                    '<br>'+str('Mechanical Ventilation: ')++df_centers['VENT_desc'] +\n",
    "                    '<br>'+str('Parenteral Nutrition: ')++df_centers['PN_desc'])\n",
    "        site_number = df_centers['INPT_BEDS_map_circle'].apply(lambda x: np.sqrt(x))\n",
    "\n",
    "        fig.add_trace(go.Scattermapbox(\n",
    "                lat=site_lat,\n",
    "                lon=site_lon,\n",
    "                mode='markers',\n",
    "                marker=go.scattermapbox.Marker(\n",
    "                    size=site_number*sizepoint,\n",
    "                    color=color_options[i],#site_icu,\n",
    "                    #colorscale='Black',\n",
    "                    opacity=0.65,\n",
    "                    #showscale=True,\n",
    "                    #colorscale=[(0, \"DimGrey\"), (0.15, \"slategrey\"), (0.5, \"darkslategrey\"), (1, \"black\")]\n",
    "                ),\n",
    "                 text=site_name,\n",
    "                 hoverinfo='text',\n",
    "                 name=status,\n",
    "            ))\n",
    "\n",
    "        fig.update_traces(showlegend=True)\n",
    "        i+=1\n",
    "\n",
    "    fig.update_layout(title={\n",
    "                    'text': \"Post-Acute Care Centers\",\n",
    "                    'y':0.95,\n",
    "                    'x':0.5,\n",
    "                    'xanchor': 'center',\n",
    "                    'yanchor': 'top'},\n",
    "                      legend=dict(x=-.1, y=0.8), \n",
    "                      coloraxis_colorbar=dict(title=\"Population under 18 years (millions)\"),\n",
    "                      margin={\"r\":0,\"t\":0,\"l\":0,\"b\":0})\n",
    "\n",
    "    \n",
    "    \n",
    "#    fig.show()\n",
    "    plot(fig, filename=\"webpage_maps/rehab_centers_population.html\")\n",
    "#    plot(fig, filename=\"webpage_maps/rehab_centers_beds_10k.html\")\n",
    "    \n",
    "# #     plotly.io.write_image(fig, \"figures/fig1a_hosps_peds_BW.pdf\", #format=pdf,\n",
    "# #                    width=1000, height=600, validate=True)\n",
    "    \n",
    "else:\n",
    "    print(\"To show the map, change variable to 'Y' \")"
   ]
  },
  {
   "cell_type": "markdown",
   "id": "3ef16f73",
   "metadata": {},
   "source": [
    "## Map for manuscript"
   ]
  },
  {
   "cell_type": "code",
   "execution_count": null,
   "id": "caa99d15",
   "metadata": {
    "ExecuteTime": {
     "end_time": "2023-03-30T19:20:47.131927Z",
     "start_time": "2023-03-30T19:20:45.119547Z"
    },
    "scrolled": true
   },
   "outputs": [],
   "source": [
    "import geopandas as gpd\n",
    "data_tools = \"/Users/ufranca/Documents/Dropbox/projects_coding/data_tools/\"\n",
    "\n",
    "if user == 'UF':\n",
    "#     path_geojson = data_tools+\"geojson/us-states.json\"\n",
    "    path_geojson = data_tools+\"geojson/geojson_states\"\n",
    "else:\n",
    "    path_geojson = 'json_files\\geojson_states'\n",
    "    \n",
    "geodf = gpd.read_file(path_geojson)\n",
    "   \n",
    "#display(geodf.head())\n",
    "geodf = geodf.to_crs({'init': 'epsg:4326'})\n",
    "geodf['geometry'] = geodf['geometry'].to_crs(epsg=3395)\n",
    "\n",
    "geodf = geodf[(geodf['STUSPS'] != 'HI') & \n",
    "              (geodf['STUSPS'] != 'AK') &\n",
    "              (geodf['STUSPS'] != 'PR') & \n",
    "              (geodf['STUSPS'] != 'MP') & \n",
    "              (geodf['STUSPS'] != 'GU') & \n",
    "              (geodf['STUSPS'] != 'AS') & \n",
    "              (geodf['STUSPS'] != 'VI')]\n",
    "\n",
    "geodf.to_file(data_tools+\"geojson/geojson_states_epsg3395\", driver = \"GeoJSON\")\n",
    "    \n",
    "# print(geodf['STUSPS'].unique())\n",
    "# print(geodf['NAME'].unique())\n",
    "# # with open(path_geojson) as f:\n",
    "# #     Mass = json.load(f)\n",
    "    \n",
    "path_geojson = data_tools+\"geojson/geojson_states_epsg3395\"\n",
    "us2 = gpd.read_file(path_geojson)\n",
    "#us2 = us2.rename(columns={'name':'NAME'})\n",
    "# #Mass2#['GEOID']"
   ]
  },
  {
   "cell_type": "code",
   "execution_count": null,
   "id": "eecd6722",
   "metadata": {
    "ExecuteTime": {
     "end_time": "2023-03-30T19:20:47.732829Z",
     "start_time": "2023-03-30T19:20:47.133086Z"
    }
   },
   "outputs": [],
   "source": [
    "# import geopandas as gpd\n",
    "# data_tools = \"/Users/ufranca/Documents/Dropbox/projects_coding/data_tools/\"\n",
    "\n",
    "# if user == 'UF':\n",
    "# #     path_geojson = data_tools+\"geojson/us-states.json\"\n",
    "#     path_geojson = data_tools+\"geojson/geojson_states\"\n",
    "# else:\n",
    "#     path_geojson = 'json_files\\geojson_states'\n",
    "    \n",
    "# geodf = gpd.read_file(path_geojson)\n",
    "   \n",
    "# #display(geodf.head())\n",
    "# geodf = geodf.to_crs({'init': 'epsg:4326'})\n",
    "# geodf['geometry'] = geodf['geometry'].to_crs(epsg=3395)\n",
    "\n",
    "# geodf = geodf[(geodf['STUSPS'] != 'HI') & \n",
    "#               (geodf['STUSPS'] != 'AK') &\n",
    "#               (geodf['STUSPS'] != 'PR') & \n",
    "#               (geodf['STUSPS'] != 'MP') & \n",
    "#               (geodf['STUSPS'] != 'GU') & \n",
    "#               (geodf['STUSPS'] != 'AS') & \n",
    "#               (geodf['STUSPS'] != 'VI')]\n",
    "\n",
    "# geodf.to_file(data_tools+\"geojson/geojson_states_epsg3395\", driver = \"GeoJSON\")\n",
    "    \n",
    "# # print(geodf['STUSPS'].unique())\n",
    "# # print(geodf['NAME'].unique())\n",
    "# # # with open(path_geojson) as f:\n",
    "# # #     Mass = json.load(f)\n",
    "    \n",
    "path_geojson = data_tools+\"geojson/geojson_states_epsg3395\"\n",
    "us2 = gpd.read_file(path_geojson)\n",
    "#us2 = us2.rename(columns={'name':'NAME'})\n",
    "# #Mass2#['GEOID']"
   ]
  },
  {
   "cell_type": "code",
   "execution_count": null,
   "id": "d889747a",
   "metadata": {
    "ExecuteTime": {
     "end_time": "2023-03-30T19:20:47.738059Z",
     "start_time": "2023-03-30T19:20:47.733791Z"
    }
   },
   "outputs": [],
   "source": [
    "us_map = us2.merge(df_merged, on='NAME', how='outer')\n",
    "#us_map"
   ]
  },
  {
   "cell_type": "code",
   "execution_count": null,
   "id": "abd270c0",
   "metadata": {
    "ExecuteTime": {
     "end_time": "2023-03-30T19:20:47.740716Z",
     "start_time": "2023-03-30T19:20:47.738940Z"
    }
   },
   "outputs": [],
   "source": [
    "# fig, ax = plt.subplots(figsize=(15,12))\n",
    "# #gdf.plot(aspect=1)\n",
    "# us_map.plot(column= us_map['Children_M'], legend=True, ax=ax, #color='Children'\n",
    "#             cmap='Greys', \n",
    "#            edgecolor='darkgrey', alpha=0.7, linewidth=0.5, aspect=1)\n",
    "# #plt.scatter(df_rehab['longitude'].astype(float), df_rehab['latitude'].astype(float), c='Red', s=120, marker='o')\n",
    "\n",
    "# # ## Loop through each flight plotting line depicting flight between source and destination\n",
    "# # for slat,dlat, slon, dlon in zip(df_allstates_stacked_test['Latitude_Pt'], df_allstates_stacked_test[\"latitude\"], \n",
    "# #                                               df_allstates_stacked_test['Longitude_Pt'], df_allstates_stacked_test[\"longitude\"]):\n",
    "# #     plt.plot([slon , dlon], [slat, dlat], linewidth=1, color=\"red\", alpha=0.35)\n",
    "\n",
    "# #plt.title('(b) Suburban')\n",
    "# # plt.xlim(-180, -65.55)#(-130, -65.55)\n",
    "# # plt.ylim(24, 75)#(24, 55)\n",
    "# plt.xticks([])\n",
    "# plt.yticks([])"
   ]
  },
  {
   "cell_type": "code",
   "execution_count": null,
   "id": "db4abdb1",
   "metadata": {
    "ExecuteTime": {
     "end_time": "2023-03-30T19:20:47.743199Z",
     "start_time": "2023-03-30T19:20:47.741764Z"
    }
   },
   "outputs": [],
   "source": [
    "#us_map"
   ]
  },
  {
   "cell_type": "markdown",
   "id": "061d1fc6",
   "metadata": {},
   "source": [
    "### Converting latitude and longitude of facilities to the correct projection"
   ]
  },
  {
   "cell_type": "code",
   "execution_count": null,
   "id": "00fc22dd",
   "metadata": {
    "ExecuteTime": {
     "end_time": "2023-03-30T19:20:47.793206Z",
     "start_time": "2023-03-30T19:20:47.744513Z"
    }
   },
   "outputs": [],
   "source": [
    "## Converting latitude and longitude of facilities to the correct projection\n",
    "\n",
    "df_allstates_stacked_hosp = df_rehab[['latitude','longitude','STATE', 'FAC_NAME', 'ST_ADR','STATUS_desc','INPT_BEDS_map_comment','INPT_BEDS_map_circle']]\n",
    "df_allstates_stacked_hosp[['latitude','longitude']] = df_allstates_stacked_hosp[['latitude','longitude']].astype(np.float64)\n",
    "\n",
    "##################################################################\n",
    "### REMOVING CENTERS WITHOUT LATITUDE/Longitude\n",
    "print(\"\\n\")\n",
    "print(\"=\"*120)\n",
    "print(\"Centers without location (latitude/longitude) ---> We'll keep only the ones with location to map\")\n",
    "\n",
    "df_without_location = df_allstates_stacked_hosp[df_allstates_stacked_hosp['latitude'].isna()]\n",
    "display(df_without_location)\n",
    "\n",
    "## Keeping the ones with location\n",
    "df_allstates_stacked_hosp = df_allstates_stacked_hosp[~df_allstates_stacked_hosp['latitude'].isna()]\n",
    "\n",
    "print(\"=\"*120)\n",
    "print(\"\\n\")\n",
    "########################################################################################\n",
    "\n",
    "df_allstates_stacked_hosp['col_merge'] = 'CM'+df_allstates_stacked_hosp.index.astype(str)\n",
    "\n",
    "gdf_allstates_stacked_hosp = gpd.GeoDataFrame(df_allstates_stacked_hosp, \n",
    "                                             geometry=gpd.points_from_xy(df_allstates_stacked_hosp['longitude'], df_allstates_stacked_hosp['latitude']),\n",
    "                                             crs=\"EPSG:4326\")\n",
    "gdf_allstates_stacked_hosp['geometry'] = gdf_allstates_stacked_hosp['geometry'].to_crs(epsg=3395)\n",
    "#display(gdf_allstates_stacked_hosp[['geometry','latitude','longitude']][200:])\n",
    "\n",
    "#gdf_allstates_stacked_hosp['geometry'] = gdf_allstates_stacked_hosp['geometry'].to_crs(epsg=3395)\n",
    "#display(df_allstates_stacked_hosp)\n",
    "# print(len(gdf_allstates_stacked_hosp))\n",
    "# display(gdf_allstates_stacked_hosp.sample(5))\n",
    "#gdf_allstates_stacked_hosp['latitude'].value_counts()\n",
    "\n",
    "#gdf_allstates_stacked_hosp['geometry'] = gdf_allstates_stacked_hosp['geometry'].to_crs(epsg=3395)\n",
    "\n",
    "# display(gdf_allstates_stacked_hosp.sample(5))\n",
    "\n",
    "\n",
    "# df_allstates_stacked_pts = df_allstates_stacked_test[['Latitude_Pt','Longitude_Pt','State_Pt', 'ZIP']]\n",
    "# df_allstates_stacked_pts[['Latitude_Pt','Longitude_Pt']] = df_allstates_stacked_pts[['Latitude_Pt','Longitude_Pt']].astype(np.float64)\n",
    "# df_allstates_stacked_pts['col_merge'] = 'CM'+df_allstates_stacked_pts.index.astype(str)\n",
    "# gdf_allstates_stacked_pts = gpd.GeoDataFrame(df_allstates_stacked_pts, \n",
    "#                                              geometry=gpd.points_from_xy(df_allstates_stacked_pts['Longitude_Pt'], df_allstates_stacked_pts['Latitude_Pt']),\n",
    "#                                              crs=\"EPSG:4326\")\n",
    "\n",
    "# print(len(gdf_allstates_stacked_pts))\n",
    "# # display(gdf_allstates_stacked_pts.sample(5))\n",
    "\n",
    "# gdf_allstates_stacked_hosp['geometry'] = gdf_allstates_stacked_hosp['geometry'].to_crs(epsg=3395)\n",
    "# # display(gdf_allstates_stacked_pts.sample(5))\n",
    "\n",
    "# #display(gdf_allstates_stacked_hosp) \n",
    "# gdf_allstates_stacked_hosp = gdf_allstates_stacked_hosp.reset_index(drop=True)\n",
    "# # #print(gdf_allstates_stacked_hosp.sample(10).reset_index(drop=True))\n",
    "# gdf_allstates_stacked_hosp\n",
    "gdf_allstates_stacked_hosp['longitude_2'] = gdf_allstates_stacked_hosp['geometry'].x\n",
    "gdf_allstates_stacked_hosp['latitude_2'] = gdf_allstates_stacked_hosp['geometry'].y\n",
    "\n",
    "\n",
    "#gdf_allstates_stacked_hosp \n",
    "\n",
    "# #gdf_allstates_stacked_hosp['geometry'] = gdf_allstates_stacked_hosp['geometry'].to_crs(epsg=3395)\n",
    "# gdf_allstates_stacked_pts['Longitude_Pt_2'] = gdf_allstates_stacked_pts['geometry'].x\n",
    "# gdf_allstates_stacked_pts['Latitude_Pt_2'] = gdf_allstates_stacked_pts['geometry'].y\n",
    "# gdf_allstates_stacked_pts.sample(10)\n",
    "\n",
    "# gdf_allstates_stacked = gdf_allstates_stacked_hosp.merge(gdf_allstates_stacked_pts, on='col_merge', how='right')\n",
    "\n",
    "# gdf_allstates_stacked.sample(5)\n"
   ]
  },
  {
   "cell_type": "code",
   "execution_count": null,
   "id": "af1e962e",
   "metadata": {},
   "outputs": [],
   "source": []
  },
  {
   "cell_type": "markdown",
   "id": "02ca88e7",
   "metadata": {},
   "source": [
    "## Test manuscript map"
   ]
  },
  {
   "cell_type": "code",
   "execution_count": null,
   "id": "4f453470",
   "metadata": {
    "ExecuteTime": {
     "end_time": "2023-03-30T19:20:48.298790Z",
     "start_time": "2023-03-30T19:20:47.794421Z"
    }
   },
   "outputs": [],
   "source": [
    "## see https://coderzcolumn.com/tutorials/data-science/how-to-create-connection-map-chart-in-python-jupyter-notebook-plotly-and-geopandas\n",
    "params = {'legend.fontsize': 15,\n",
    "          'legend.handlelength': 2}\n",
    "plt.rcParams.update(params)\n",
    "\n",
    "fig, ax = plt.subplots(figsize=(15, 15))\n",
    "gmap = us_map.plot(column= us_map['Children_M'], #color='Children'\n",
    "            cmap='Blues', ax=ax,  \n",
    "           edgecolor='darkblue', alpha=0.7, linewidth=0.5, aspect=1, \n",
    "           legend=True, legend_kwds={'shrink': 0.5, 'label':'Population under 18 years (millions)'})\n",
    "#gmap.set_label('Pediatric population')\n",
    "#plt.legend(loc=2, prop={'size': 6})\n",
    "\n",
    "sns.scatterplot(data=gdf_allstates_stacked_hosp, x='longitude_2', y='latitude_2', \n",
    "                #hue='STATUS_desc', palette = ['Blue', 'DarkOrange', 'DarkRed', 'Black'])\n",
    "                style='STATUS_desc', color='Black')#,size='INPT_BEDS_map_circle')\n",
    "                #c='Black', s=120, marker='o', \n",
    "                #data=gdf_allstates_stacked_hosp)\n",
    "\n",
    "# ## Loop through each flight plotting line depicting flight between source and destination\n",
    "# for slat,dlat, slon, dlon in zip(gdf_allstates_stacked['Latitude_Pt_2'], gdf_allstates_stacked[\"latitude_2\"], \n",
    "#                                               gdf_allstates_stacked['Longitude_Pt_2'], gdf_allstates_stacked[\"longitude_2\"]):\n",
    "#     plt.plot([slon , dlon], [slat, dlat], linewidth=1, color=\"red\", alpha=0.35)\n",
    "\n",
    "#plt.title('(b) Suburban')\n",
    "#plt.xlim(-2.0e7, -0.72e7)#(-130, -65.55)\n",
    "#plt.ylim(0.27e7, 1.16e7)#(24, 55)\n",
    "plt.xticks([])\n",
    "plt.yticks([])\n",
    "plt.xlabel(\"\")\n",
    "plt.ylabel(\"\")\n",
    "\n",
    "#plt.savefig('figures/overall_distances_withAK_mercartor.pdf', bbox_inches=\"tight\")\n",
    "#plt.savefig('figures/pac_with_AK_HI.pdf', bbox_inches=\"tight\")"
   ]
  },
  {
   "cell_type": "markdown",
   "id": "b9dd8bfb",
   "metadata": {},
   "source": [
    "## Manuscript maps"
   ]
  },
  {
   "cell_type": "markdown",
   "id": "6cd8880a",
   "metadata": {},
   "source": [
    "### State - <font color=\"red\">to be included in the manuscript</font>"
   ]
  },
  {
   "cell_type": "code",
   "execution_count": null,
   "id": "b987b0ed",
   "metadata": {
    "ExecuteTime": {
     "end_time": "2023-03-30T19:20:48.325805Z",
     "start_time": "2023-03-30T19:20:48.300159Z"
    }
   },
   "outputs": [],
   "source": [
    "us_map[['STATE','beds_per_100k']]\n",
    "#us_map = us_map[us_map['STATE'] != 'DC']"
   ]
  },
  {
   "cell_type": "code",
   "execution_count": null,
   "id": "7c213580",
   "metadata": {
    "ExecuteTime": {
     "end_time": "2023-03-30T19:20:49.158897Z",
     "start_time": "2023-03-30T19:20:48.326928Z"
    }
   },
   "outputs": [],
   "source": [
    "## see https://coderzcolumn.com/tutorials/data-science/how-to-create-connection-map-chart-in-python-jupyter-notebook-plotly-and-geopandas\n",
    "params = {'legend.fontsize': 12,\n",
    "          'legend.handlelength': 2}\n",
    "plt.rcParams.update(params)\n",
    "\n",
    "fig, ax = plt.subplots(figsize=(10, 10))\n",
    "gmap = us_map.plot(column= us_map['Children_M'], #color='Children'\n",
    "            cmap='Blues', ax=ax,  facecolor='white',\n",
    "           edgecolor='darkblue', alpha=0.7, linewidth=0.5, aspect=1, \n",
    "           legend=True, \n",
    "            legend_kwds={'shrink': 1.0, 'label':'Population under 18 years (millions)', \n",
    "                         'location':'bottom', 'pad':0.02})\n",
    "#gmap.set_label('Pediatric population')\n",
    "#plt.legend(loc=2, prop={'size': 6})\n",
    "ax.set_facecolor(\"white\")\n",
    "\n",
    "gdf_allstates_stacked_hosp2 = gdf_allstates_stacked_hosp[~gdf_allstates_stacked_hosp['STATE'].isin(['HI', 'AK'])]\n",
    "\n",
    "list_status = ['Free-standing pediatric post-acute care facility',\n",
    "                 'Facility with embedded pediatric post-acute care unit']\n",
    "gdf_allstates_stacked_hosp2 = gdf_allstates_stacked_hosp2[gdf_allstates_stacked_hosp2['STATUS_desc'].isin(list_status)]\n",
    "\n",
    "sns.scatterplot(data=gdf_allstates_stacked_hosp2, x='longitude_2', y='latitude_2', \n",
    "                #hue='STATUS_desc', palette = ['Blue', 'DarkOrange', 'DarkRed', 'Black'])\n",
    "                style='STATUS_desc', color='Black', alpha=0.75)\n",
    "                #c='Black', s=120, marker='o', \n",
    "                #data=gdf_allstates_stacked_hosp)\n",
    "\n",
    "# ## Loop through each flight plotting line depicting flight between source and destination\n",
    "# for slat,dlat, slon, dlon in zip(gdf_allstates_stacked['Latitude_Pt_2'], gdf_allstates_stacked[\"latitude_2\"], \n",
    "#                                               gdf_allstates_stacked['Longitude_Pt_2'], gdf_allstates_stacked[\"longitude_2\"]):\n",
    "#     plt.plot([slon , dlon], [slat, dlat], linewidth=1, color=\"red\", alpha=0.35)\n",
    "\n",
    "#plt.title('(b) Suburban')\n",
    "#plt.xlim(-2.0e7, -0.72e7)#(-130, -65.55)\n",
    "#plt.ylim(0.27e7, 1.16e7)#(24, 55)\n",
    "plt.xticks([])\n",
    "plt.yticks([])\n",
    "plt.xlabel(\"\")\n",
    "plt.ylabel(\"\")\n",
    "\n",
    "#legend = plt.legend(frameon = 1)\n",
    "\n",
    "legend = plt.legend(bbox_to_anchor=(0.75, 0.34), title='Type of facility', frameon=1)\n",
    "frame = legend.get_frame()\n",
    "frame.set_color('white')\n",
    "#ax.legend(handles=[])\n",
    "\n",
    "#plt.savefig('figures/overall_distances_withAK_mercartor.pdf', bbox_inches=\"tight\")\n",
    "plt.savefig('figures/pac_continental_state_pop_color.pdf', bbox_inches=\"tight\")"
   ]
  },
  {
   "cell_type": "code",
   "execution_count": null,
   "id": "8f3daa38",
   "metadata": {
    "ExecuteTime": {
     "end_time": "2023-03-30T19:20:49.954950Z",
     "start_time": "2023-03-30T19:20:49.160251Z"
    }
   },
   "outputs": [],
   "source": [
    "## see https://coderzcolumn.com/tutorials/data-science/how-to-create-connection-map-chart-in-python-jupyter-notebook-plotly-and-geopandas\n",
    "params = {'legend.fontsize': 12,\n",
    "          'legend.handlelength': 2}\n",
    "plt.rcParams.update(params)\n",
    "\n",
    "fig, ax = plt.subplots(figsize=(10, 10))\n",
    "gmap = us_map.plot(column= us_map['Children_M'], #color='Children'\n",
    "            cmap='Greys', ax=ax,  facecolor='white',\n",
    "           edgecolor='darkgrey', alpha=0.65, linewidth=0.5, aspect=1, \n",
    "           legend=True, \n",
    "            legend_kwds={'shrink': 1.0, 'label':'Population under 18 years (millions)', \n",
    "                         'location':'bottom', 'pad':0.02})\n",
    "#gmap.set_label('Pediatric population')\n",
    "#plt.legend(loc=2, prop={'size': 6})\n",
    "ax.set_facecolor(\"white\")\n",
    "\n",
    "\n",
    "\n",
    "gdf_allstates_stacked_hosp2 = gdf_allstates_stacked_hosp[~gdf_allstates_stacked_hosp['STATE'].isin(['HI', 'AK'])]\n",
    "\n",
    "\n",
    "\n",
    "list_status = ['Free-standing pediatric post-acute care facility',\n",
    "                 'Facility with embedded pediatric post-acute care unit',]\n",
    "gdf_allstates_stacked_hosp2 = gdf_allstates_stacked_hosp2[gdf_allstates_stacked_hosp2['STATUS_desc'].isin(list_status)]\n",
    "\n",
    "sns.scatterplot(data=gdf_allstates_stacked_hosp2, x='longitude_2', y='latitude_2', \n",
    "                #hue='STATUS_desc', palette = ['Blue', 'DarkOrange', 'DarkRed', 'Black'])\n",
    "                style='STATUS_desc', color='Black', alpha=0.75)\n",
    "                #c='Black', s=120, marker='o', \n",
    "                #data=gdf_allstates_stacked_hosp)\n",
    "\n",
    "# ## Loop through each flight plotting line depicting flight between source and destination\n",
    "# for slat,dlat, slon, dlon in zip(gdf_allstates_stacked['Latitude_Pt_2'], gdf_allstates_stacked[\"latitude_2\"], \n",
    "#                                               gdf_allstates_stacked['Longitude_Pt_2'], gdf_allstates_stacked[\"longitude_2\"]):\n",
    "#     plt.plot([slon , dlon], [slat, dlat], linewidth=1, color=\"red\", alpha=0.35)\n",
    "\n",
    "#plt.title('(b) Suburban')\n",
    "#plt.xlim(-2.0e7, -0.72e7)#(-130, -65.55)\n",
    "#plt.ylim(0.27e7, 1.16e7)#(24, 55)\n",
    "plt.xticks([])\n",
    "plt.yticks([])\n",
    "plt.xlabel(\"\")\n",
    "plt.ylabel(\"\")\n",
    "\n",
    "#legend = plt.legend(frameon = 1)\n",
    "\n",
    "legend = plt.legend(bbox_to_anchor=(0.75, 0.34), title='Type of facility', frameon=1)\n",
    "frame = legend.get_frame()\n",
    "frame.set_color('white')\n",
    "#ax.legend(handles=[])\n",
    "\n",
    "#plt.savefig('figures/overall_distances_withAK_mercartor.pdf', bbox_inches=\"tight\")\n",
    "#plt.savefig('figures/pac_continental_BW.pdf', bbox_inches=\"tight\")\n",
    "plt.savefig('figures/pac_continental_state_pop_BW.pdf', bbox_inches=\"tight\")"
   ]
  },
  {
   "cell_type": "markdown",
   "id": "73ccf56c",
   "metadata": {},
   "source": [
    "#### Test: beds/children"
   ]
  },
  {
   "cell_type": "code",
   "execution_count": null,
   "id": "6af0ddf4",
   "metadata": {
    "ExecuteTime": {
     "end_time": "2023-03-30T19:13:55.238563Z",
     "start_time": "2023-03-30T19:13:55.235637Z"
    }
   },
   "outputs": [],
   "source": [
    "# ## see https://coderzcolumn.com/tutorials/data-science/how-to-create-connection-map-chart-in-python-jupyter-notebook-plotly-and-geopandas\n",
    "# params = {'legend.fontsize': 12,\n",
    "#           'legend.handlelength': 2}\n",
    "# plt.rcParams.update(params)\n",
    "\n",
    "# fig, ax = plt.subplots(figsize=(10, 10))\n",
    "# gmap = us_map.plot(column= us_map['beds_per_100k'], #color='Children'\n",
    "#             cmap='Greys', ax=ax,  facecolor='white',\n",
    "#            edgecolor='darkgrey', alpha=0.65, linewidth=0.5, aspect=1, \n",
    "#            legend=True, \n",
    "#             legend_kwds={'shrink': 1.0, 'label':'Beds per 100k childrens', \n",
    "#                          'location':'bottom', 'pad':0.02})\n",
    "# #gmap.set_label('Pediatric population')\n",
    "# #plt.legend(loc=2, prop={'size': 6})\n",
    "# ax.set_facecolor(\"white\")\n",
    "\n",
    "\n",
    "\n",
    "# # gdf_allstates_stacked_hosp2 = gdf_allstates_stacked_hosp[~gdf_allstates_stacked_hosp['STATE'].isin(['HI', 'AK'])]\n",
    "\n",
    "# # list_status = ['PAC facility with embedded pediatric unit','Free-standing pediatric PAC facility']\n",
    "# # gdf_allstates_stacked_hosp2 = gdf_allstates_stacked_hosp2[gdf_allstates_stacked_hosp2['STATUS_desc'].isin(list_status)]\n",
    "\n",
    "# # sns.scatterplot(data=gdf_allstates_stacked_hosp2, x='longitude_2', y='latitude_2', \n",
    "# #                 #hue='STATUS_desc', palette = ['Blue', 'DarkOrange', 'DarkRed', 'Black'])\n",
    "# #                 style='STATUS_desc', color='Black', alpha=0.75)\n",
    "# #                 #c='Black', s=120, marker='o', \n",
    "# #                 #data=gdf_allstates_stacked_hosp)\n",
    "\n",
    "# # ## Loop through each flight plotting line depicting flight between source and destination\n",
    "# # for slat,dlat, slon, dlon in zip(gdf_allstates_stacked['Latitude_Pt_2'], gdf_allstates_stacked[\"latitude_2\"], \n",
    "# #                                               gdf_allstates_stacked['Longitude_Pt_2'], gdf_allstates_stacked[\"longitude_2\"]):\n",
    "# #     plt.plot([slon , dlon], [slat, dlat], linewidth=1, color=\"red\", alpha=0.35)\n",
    "\n",
    "# #plt.title('(b) Suburban')\n",
    "# #plt.xlim(-2.0e7, -0.72e7)#(-130, -65.55)\n",
    "# #plt.ylim(0.27e7, 1.16e7)#(24, 55)\n",
    "# plt.xticks([])\n",
    "# plt.yticks([])\n",
    "# plt.xlabel(\"\")\n",
    "# plt.ylabel(\"\")\n",
    "\n",
    "# #legend = plt.legend(frameon = 1)\n",
    "\n",
    "# # legend = plt.legend(bbox_to_anchor=(0.75, 0.34), title='Type of facility', frameon=1)\n",
    "# # frame = legend.get_frame()\n",
    "# # frame.set_color('white')\n",
    "# #ax.legend(handles=[])\n",
    "\n",
    "# #plt.savefig('figures/overall_distances_withAK_mercartor.pdf', bbox_inches=\"tight\")\n",
    "# #plt.savefig('figures/pac_states_BW.pdf', bbox_inches=\"tight\")\n",
    "# #plt.savefig('figures/pac_states_BW_with DC.pdf', bbox_inches=\"tight\")"
   ]
  },
  {
   "cell_type": "markdown",
   "id": "eadac5dd",
   "metadata": {},
   "source": [
    "### Division with beds/children"
   ]
  },
  {
   "cell_type": "code",
   "execution_count": null,
   "id": "21031f1b",
   "metadata": {
    "ExecuteTime": {
     "end_time": "2023-03-30T19:13:57.912716Z",
     "start_time": "2023-03-30T19:13:55.239723Z"
    }
   },
   "outputs": [],
   "source": [
    "import geopandas as gpd\n",
    "data_tools = \"/Users/ufranca/Documents/Dropbox/projects_coding/data_tools/\"\n",
    "\n",
    "if user == 'UF':\n",
    "#     path_geojson = data_tools+\"geojson/us-states.json\"\n",
    "    path_geojson = data_tools+\"geojson/geojson_divisions\"\n",
    "else:\n",
    "    path_geojson = 'json_files\\geojson_divisions'\n",
    "    \n",
    "geodf = gpd.read_file(path_geojson)\n",
    "   \n",
    "#display(geodf.head())\n",
    "geodf = geodf.to_crs({'init': 'epsg:4326'})\n",
    "geodf['geometry'] = geodf['geometry'].to_crs(epsg=3395)\n",
    "\n",
    "# geodf = geodf[(geodf['STUSPS'] != 'HI') & \n",
    "#               (geodf['STUSPS'] != 'AK') &\n",
    "#               (geodf['STUSPS'] != 'PR') & \n",
    "#               (geodf['STUSPS'] != 'MP') & \n",
    "#               (geodf['STUSPS'] != 'GU') & \n",
    "#               (geodf['STUSPS'] != 'AS') & \n",
    "#               (geodf['STUSPS'] != 'VI')]\n",
    "\n",
    "geodf.to_file(data_tools+\"geojson/geojson_divisions_epsg3395\", driver = \"GeoJSON\")\n",
    "    \n",
    "# print(geodf['STUSPS'].unique())\n",
    "# print(geodf['NAME'].unique())\n",
    "# # with open(path_geojson) as f:\n",
    "# #     Mass = json.load(f)\n",
    "    \n",
    "path_geojson = data_tools+\"geojson/geojson_divisions_epsg3395\"\n",
    "us2 = gpd.read_file(path_geojson)\n",
    "us2 = us2.rename(columns={'NAME':'Division'})\n",
    "# #Mass2#['GEOID']"
   ]
  },
  {
   "cell_type": "code",
   "execution_count": null,
   "id": "e3bc54c3",
   "metadata": {
    "ExecuteTime": {
     "end_time": "2023-03-30T19:13:57.917622Z",
     "start_time": "2023-03-30T19:13:57.915301Z"
    }
   },
   "outputs": [],
   "source": [
    "#us2['NAME']"
   ]
  },
  {
   "cell_type": "code",
   "execution_count": null,
   "id": "3e37c295",
   "metadata": {
    "ExecuteTime": {
     "end_time": "2023-03-30T19:13:57.924177Z",
     "start_time": "2023-03-30T19:13:57.918806Z"
    }
   },
   "outputs": [],
   "source": [
    "us_map_div = us2.merge(df_merged_divisions, on='Division', how='outer')\n",
    "#us_map_div"
   ]
  },
  {
   "cell_type": "code",
   "execution_count": null,
   "id": "c6b491b6",
   "metadata": {
    "ExecuteTime": {
     "end_time": "2023-03-30T19:13:57.927349Z",
     "start_time": "2023-03-30T19:13:57.925247Z"
    }
   },
   "outputs": [],
   "source": [
    "# fig, ax = plt.subplots(figsize=(15,12))\n",
    "# #gdf.plot(aspect=1)\n",
    "# us_map_div.plot(column= us_map_div['Children_M'], legend=True, ax=ax, #color='Children'\n",
    "#             cmap='Greys', \n",
    "#            edgecolor='darkgrey', alpha=0.7, linewidth=0.5, aspect=1)\n",
    "# #plt.scatter(df_rehab['longitude'].astype(float), df_rehab['latitude'].astype(float), c='Red', s=120, marker='o')\n",
    "\n",
    "# # ## Loop through each flight plotting line depicting flight between source and destination\n",
    "# # for slat,dlat, slon, dlon in zip(df_allstates_stacked_test['Latitude_Pt'], df_allstates_stacked_test[\"latitude\"], \n",
    "# #                                               df_allstates_stacked_test['Longitude_Pt'], df_allstates_stacked_test[\"longitude\"]):\n",
    "# #     plt.plot([slon , dlon], [slat, dlat], linewidth=1, color=\"red\", alpha=0.35)\n",
    "\n",
    "# #plt.title('(b) Suburban')\n",
    "# plt.xlim(-1.4e7, -0.73e7)#(-130, -65.55)\n",
    "# plt.ylim(0.26e7, 0.65e7)#(24, 55)\n",
    "# plt.xticks([])\n",
    "# plt.yticks([])"
   ]
  },
  {
   "cell_type": "code",
   "execution_count": null,
   "id": "b807168e",
   "metadata": {
    "ExecuteTime": {
     "end_time": "2023-03-30T19:13:58.530733Z",
     "start_time": "2023-03-30T19:13:57.928592Z"
    },
    "scrolled": false
   },
   "outputs": [],
   "source": [
    "## see https://coderzcolumn.com/tutorials/data-science/how-to-create-connection-map-chart-in-python-jupyter-notebook-plotly-and-geopandas\n",
    "params = {'legend.fontsize': 12,\n",
    "          'legend.handlelength': 2}\n",
    "plt.rcParams.update(params)\n",
    "\n",
    "fig, ax = plt.subplots(figsize=(10, 10))\n",
    "gmap = us_map_div.plot(column= us_map_div['Beds_per_100k'], #color='Children'\n",
    "            cmap='Blues', ax=ax,  facecolor='white',\n",
    "           edgecolor='darkblue', alpha=0.7, linewidth=0.5, aspect=1, \n",
    "           legend=True, \n",
    "            legend_kwds={'shrink': 1.0, 'label':'Beds per 100k children', \n",
    "                         'location':'bottom', 'pad':0.02})\n",
    "#gmap.set_label('Pediatric population')\n",
    "#plt.legend(loc=2, prop={'size': 6})\n",
    "ax.set_facecolor(\"white\")\n",
    "\n",
    "gdf_allstates_stacked_hosp2 = gdf_allstates_stacked_hosp[~gdf_allstates_stacked_hosp['STATE'].isin(['HI', 'AK'])]\n",
    "\n",
    "list_status = ['Free-standing pediatric post-acute care facility',\n",
    "                 'Facility with embedded pediatric post-acute care unit',]\n",
    "gdf_allstates_stacked_hosp2 = gdf_allstates_stacked_hosp2[gdf_allstates_stacked_hosp2['STATUS_desc'].isin(list_status)]\n",
    "\n",
    "sns.scatterplot(data=gdf_allstates_stacked_hosp2, x='longitude_2', y='latitude_2', \n",
    "                #hue='STATUS_desc', palette = ['Blue', 'DarkOrange', 'DarkRed', 'Black'])\n",
    "                style='STATUS_desc', color='Black', alpha=0.75)\n",
    "                #c='Black', s=120, marker='o', \n",
    "                #data=gdf_allstates_stacked_hosp)\n",
    "\n",
    "# ## Loop through each flight plotting line depicting flight between source and destination\n",
    "# for slat,dlat, slon, dlon in zip(gdf_allstates_stacked['Latitude_Pt_2'], gdf_allstates_stacked[\"latitude_2\"], \n",
    "#                                               gdf_allstates_stacked['Longitude_Pt_2'], gdf_allstates_stacked[\"longitude_2\"]):\n",
    "#     plt.plot([slon , dlon], [slat, dlat], linewidth=1, color=\"red\", alpha=0.35)\n",
    "\n",
    "#plt.title('(b) Suburban')\n",
    "plt.xlim(-1.4e7, -0.73e7)#(-130, -65.55)\n",
    "plt.ylim(0.26e7, 0.65e7)#(24, 55)\n",
    "plt.xticks([])\n",
    "plt.yticks([])\n",
    "plt.xlabel(\"\")\n",
    "plt.ylabel(\"\")\n",
    "\n",
    "#legend = plt.legend(frameon = 1)\n",
    "\n",
    "legend = plt.legend(bbox_to_anchor=(0.75, 0.34), title='Type of facility', frameon=1)\n",
    "frame = legend.get_frame()\n",
    "frame.set_color('white')\n",
    "#ax.legend(handles=[])\n",
    "\n",
    "#plt.savefig('figures/overall_distances_withAK_mercartor.pdf', bbox_inches=\"tight\")\n",
    "#plt.savefig('figures/pac_divisions.pdf', bbox_inches=\"tight\")"
   ]
  },
  {
   "cell_type": "code",
   "execution_count": null,
   "id": "b49598cb",
   "metadata": {
    "ExecuteTime": {
     "end_time": "2023-03-30T19:13:59.146086Z",
     "start_time": "2023-03-30T19:13:58.532152Z"
    }
   },
   "outputs": [],
   "source": [
    "## see https://coderzcolumn.com/tutorials/data-science/how-to-create-connection-map-chart-in-python-jupyter-notebook-plotly-and-geopandas\n",
    "params = {'legend.fontsize': 12,\n",
    "          'legend.handlelength': 2}\n",
    "plt.rcParams.update(params)\n",
    "\n",
    "fig, ax = plt.subplots(figsize=(10, 10))\n",
    "gmap = us_map_div.plot(column= us_map_div['Beds_per_100k'], #color='Children'\n",
    "            cmap='Greys', ax=ax,  facecolor='white',\n",
    "           edgecolor='darkgrey', alpha=0.7, linewidth=0.5, aspect=1, \n",
    "           legend=True, \n",
    "            legend_kwds={'shrink': 1.0, 'label':'Beds per 100k children', \n",
    "                         'location':'bottom', 'pad':0.02})\n",
    "#gmap.set_label('Pediatric population')\n",
    "#plt.legend(loc=2, prop={'size': 6})\n",
    "ax.set_facecolor(\"white\")\n",
    "\n",
    "gdf_allstates_stacked_hosp2 = gdf_allstates_stacked_hosp[~gdf_allstates_stacked_hosp['STATE'].isin(['HI', 'AK'])]\n",
    "\n",
    "list_status = ['Free-standing pediatric post-acute care facility',\n",
    "                 'Facility with embedded pediatric post-acute care unit',]\n",
    "gdf_allstates_stacked_hosp2 = gdf_allstates_stacked_hosp2[gdf_allstates_stacked_hosp2['STATUS_desc'].isin(list_status)]\n",
    "\n",
    "sns.scatterplot(data=gdf_allstates_stacked_hosp2, x='longitude_2', y='latitude_2', \n",
    "                #hue='STATUS_desc', palette = ['Blue', 'DarkOrange', 'DarkRed', 'Black'])\n",
    "                style='STATUS_desc', color='Black', alpha=0.75)\n",
    "                #c='Black', s=120, marker='o', \n",
    "                #data=gdf_allstates_stacked_hosp)\n",
    "\n",
    "# ## Loop through each flight plotting line depicting flight between source and destination\n",
    "# for slat,dlat, slon, dlon in zip(gdf_allstates_stacked['Latitude_Pt_2'], gdf_allstates_stacked[\"latitude_2\"], \n",
    "#                                               gdf_allstates_stacked['Longitude_Pt_2'], gdf_allstates_stacked[\"longitude_2\"]):\n",
    "#     plt.plot([slon , dlon], [slat, dlat], linewidth=1, color=\"red\", alpha=0.35)\n",
    "\n",
    "#plt.title('(b) Suburban')\n",
    "plt.xlim(-1.4e7, -0.73e7)#(-130, -65.55)\n",
    "plt.ylim(0.26e7, 0.65e7)#(24, 55)\n",
    "plt.xticks([])\n",
    "plt.yticks([])\n",
    "plt.xlabel(\"\")\n",
    "plt.ylabel(\"\")\n",
    "\n",
    "#legend = plt.legend(frameon = 1)\n",
    "\n",
    "legend = plt.legend(bbox_to_anchor=(0.75, 0.34), title='Type of facility', frameon=1)\n",
    "frame = legend.get_frame()\n",
    "frame.set_color('white')\n",
    "#ax.legend(handles=[])\n",
    "\n",
    "#plt.savefig('figures/overall_distances_withAK_mercartor.pdf', bbox_inches=\"tight\")\n",
    "#plt.savefig('figures/pac_divisions.pdf', bbox_inches=\"tight\")"
   ]
  },
  {
   "cell_type": "code",
   "execution_count": null,
   "id": "8627ed2f",
   "metadata": {},
   "outputs": [],
   "source": []
  },
  {
   "cell_type": "code",
   "execution_count": null,
   "id": "3d145023",
   "metadata": {},
   "outputs": [],
   "source": []
  }
 ],
 "metadata": {
  "kernelspec": {
   "display_name": "Python 3 (ipykernel)",
   "language": "python",
   "name": "python3"
  },
  "language_info": {
   "codemirror_mode": {
    "name": "ipython",
    "version": 3
   },
   "file_extension": ".py",
   "mimetype": "text/x-python",
   "name": "python",
   "nbconvert_exporter": "python",
   "pygments_lexer": "ipython3",
   "version": "3.9.12"
  },
  "toc": {
   "base_numbering": 1,
   "nav_menu": {},
   "number_sections": true,
   "sideBar": true,
   "skip_h1_title": false,
   "title_cell": "Table of Contents",
   "title_sidebar": "Contents",
   "toc_cell": true,
   "toc_position": {
    "height": "calc(100% - 180px)",
    "left": "10px",
    "top": "150px",
    "width": "275.094px"
   },
   "toc_section_display": true,
   "toc_window_display": true
  }
 },
 "nbformat": 4,
 "nbformat_minor": 5
}
